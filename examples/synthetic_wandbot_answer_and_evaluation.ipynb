{
 "cells": [
  {
   "attachments": {},
   "cell_type": "markdown",
   "metadata": {},
   "source": [
    "In this notebook we will automatically generate a set of evaluation questions based on wandb docs"
   ]
  },
  {
   "cell_type": "code",
   "execution_count": 1,
   "metadata": {},
   "outputs": [],
   "source": [
    "import random\n",
    "import wandb\n",
    "import re\n",
    "import openai\n",
    "import os\n",
    "from tqdm.auto import tqdm\n",
    "import time\n",
    "\n",
    "from langchain.docstore.document import Document\n",
    "\n",
    "import time\n",
    "from typing import Any, Dict, List\n",
    "\n",
    "import json\n",
    "import wandb\n",
    "from wandb.sdk.lib.runid import generate_id\n",
    "from wandb.integration.langchain import WandbTracer\n",
    "\n",
    "from langchain import LLMChain\n",
    "from langchain.chains import HypotheticalDocumentEmbedder, RetrievalQAWithSourcesChain\n",
    "from langchain.chat_models import ChatOpenAI\n",
    "from langchain.embeddings.openai import OpenAIEmbeddings\n",
    "from langchain.prompts.chat import (\n",
    "    ChatPromptTemplate,\n",
    "    HumanMessagePromptTemplate,\n",
    "    SystemMessagePromptTemplate,\n",
    "    AIMessagePromptTemplate\n",
    ")\n",
    "from langchain.schema import Document\n",
    "from langchain.vectorstores import FAISS\n",
    "from langchain.vectorstores.base import VectorStoreRetriever\n",
    "from langchain.chains import HypotheticalDocumentEmbedder, RetrievalQAWithSourcesChain\n",
    "from langchain.callbacks import get_openai_callback"
   ]
  },
  {
   "cell_type": "code",
   "execution_count": 2,
   "metadata": {},
   "outputs": [],
   "source": [
    "# !git clone https://github.com/wandb/docodile.git"
   ]
  },
  {
   "cell_type": "code",
   "execution_count": 3,
   "metadata": {},
   "outputs": [],
   "source": [
    "# !pip install \"langchain>=0.0.175\" \"wandb>=0.15.3\" openai cohere tqdm fastcore"
   ]
  },
  {
   "cell_type": "code",
   "execution_count": 4,
   "metadata": {},
   "outputs": [],
   "source": [
    "PROJECT = \"wandbot_synth\" \n",
    "ENTITY = \"wandbot\""
   ]
  },
  {
   "cell_type": "code",
   "execution_count": 5,
   "metadata": {},
   "outputs": [
    {
     "name": "stdout",
     "output_type": "stream",
     "text": [
      "Please enter password in the VS Code prompt at the top of your VS Code window!\n",
      "OpenAI API key configured\n"
     ]
    }
   ],
   "source": [
    "import openai\n",
    "from getpass import getpass\n",
    "\n",
    "def get_openai_key():\n",
    "  if os.getenv(\"OPENAI_API_KEY\") is None:\n",
    "    if any(['VSCODE' in x for x in os.environ.keys()]):\n",
    "      print('Please enter password in the VS Code prompt at the top of your VS Code window!')\n",
    "    os.environ[\"OPENAI_API_KEY\"] = getpass(\"Paste your OpenAI key from: https://platform.openai.com/account/api-keys\\n\")\n",
    "    openai.api_key = os.getenv(\"OPENAI_API_KEY\")\n",
    "  assert os.getenv(\"OPENAI_API_KEY\", \"\").startswith(\"sk-\"), \"This doesn't look like a valid OpenAI API key\"\n",
    "  print(\"OpenAI API key configured\")\n",
    "\n",
    "get_openai_key()"
   ]
  },
  {
   "attachments": {},
   "cell_type": "markdown",
   "metadata": {},
   "source": [
    "# Answer Questions with WandBot"
   ]
  },
  {
   "cell_type": "code",
   "execution_count": 7,
   "metadata": {},
   "outputs": [],
   "source": [
    "class VectorStoreRetrieverWithScore(VectorStoreRetriever):\n",
    "    def get_relevant_documents(self, query: str) -> List[Document]:\n",
    "        if self.search_type == \"similarity\":\n",
    "            docs_and_scores = self.vectorstore.similarity_search_with_score(\n",
    "                query, **self.search_kwargs\n",
    "            )\n",
    "            docs = []\n",
    "            for doc, score in docs_and_scores:\n",
    "                doc.metadata[\"score\"] = score\n",
    "                docs.append(doc)\n",
    "        elif self.search_type == \"mmr\":\n",
    "            docs = self.vectorstore.max_marginal_relevance_search(\n",
    "                query, **self.search_kwargs\n",
    "            )\n",
    "        else:\n",
    "            raise ValueError(f\"search_type of {self.search_type} not allowed.\")\n",
    "        return docs\n",
    "\n",
    "\n",
    "class FAISSWithScore(FAISS):\n",
    "    def as_retriever(self) -> VectorStoreRetrieverWithScore:\n",
    "        return VectorStoreRetrieverWithScore(\n",
    "            vectorstore=self,\n",
    "            search_type=\"similarity\",\n",
    "            search_kwargs={\"k\": 10},\n",
    "        )\n",
    "\n",
    "\n",
    "class RetrievalQAWithSourcesChainWithScore(RetrievalQAWithSourcesChain):\n",
    "    reduce_k_below_max_tokens: bool = True\n",
    "    max_tokens_limit: int = 2816\n",
    "\n",
    "    def _get_docs(self, inputs: Dict[str, Any]) -> List[Document]:\n",
    "        question = inputs[self.question_key]\n",
    "        docs = self.retriever.get_relevant_documents(question)\n",
    "        return self._reduce_tokens_below_limit(docs)\n",
    "\n",
    "\n",
    "def load_artifacts(config):\n",
    "    faiss_artifact = wandb.use_artifact(config.faiss_artifact, type=\"search_index\")\n",
    "    faiss_artifact_dir = faiss_artifact.download()\n",
    "\n",
    "    hyde_prompt_artifact = wandb.use_artifact(\n",
    "        config.hyde_prompt_artifact, type=\"prompt\"\n",
    "    )\n",
    "    hyde_artifact_dir = hyde_prompt_artifact.download()\n",
    "    hyde_prompt_file = f\"{hyde_artifact_dir}/hyde_prompt.txt\"\n",
    "\n",
    "    chat_prompt_artifact = wandb.use_artifact(\n",
    "        config.chat_prompt_artifact, type=\"prompt\"\n",
    "    )\n",
    "    chat_artifact_dir = chat_prompt_artifact.download()\n",
    "    chat_prompt_file = f\"{chat_artifact_dir}/chat_prompt.txt\"\n",
    "\n",
    "    return {\n",
    "        \"faiss\": faiss_artifact_dir,\n",
    "        \"hyde_prompt\": hyde_prompt_file,\n",
    "        \"chat_prompt\": chat_prompt_file,\n",
    "    }\n"
   ]
  },
  {
   "cell_type": "code",
   "execution_count": 8,
   "metadata": {},
   "outputs": [],
   "source": [
    "import json \n",
    "def parse_source_documents(source_documents):\n",
    "    source_docs_dict = {}\n",
    "    for i,source_doc in enumerate(source_documents):\n",
    "        source_docs_dict[f\"source_doc_{i}\"] ={\n",
    "            \"page_content\":source_doc.page_content,\n",
    "            \"metadata\":source_doc.metadata[\"source\"],\n",
    "            \"lookup_index\":source_doc.lookup_index,\n",
    "            \"lookup_str\":source_doc.lookup_str,\n",
    "            }   \n",
    "\n",
    "    return json.dumps(source_docs_dict)"
   ]
  },
  {
   "cell_type": "code",
   "execution_count": 9,
   "metadata": {},
   "outputs": [],
   "source": [
    "# qa_chain.json"
   ]
  },
  {
   "cell_type": "code",
   "execution_count": null,
   "metadata": {},
   "outputs": [],
   "source": [
    "from types import SimpleNamespace\n",
    "\n",
    "# login to openai with your api key\n",
    "get_openai_key()\n",
    "\n",
    "wandbot_config = SimpleNamespace(\n",
    "    faiss_artifact=\"parambharat/wandb_docs_bot/faiss_store:latest\",\n",
    "    hyde_prompt_artifact=\"parambharat/wandb_docs_bot/hyde_prompt:latest\",\n",
    "    chat_prompt_artifact=\"parambharat/wandb_docs_bot/system_prompt:latest\",\n",
    "    model_name=\"gpt-3.5-turbo\",\n",
    "    eval_model = \"gpt-3.5-turbo\", #'command-nightly',\n",
    "    temperature=0,\n",
    "    hyde_llm_temperature=0.3,\n",
    "    openai_eval_llm_temperature=0.0,\n",
    "    command_llm_temperature=0.0,\n",
    "    cohere_generate_cost_usd = 0.0000025  # cost per characters (not tokens), $0.0025 per generation unit (1000 chars)\n",
    ")\n",
    "\n",
    "wandb.init(\n",
    "        name=\"synth_answer_generation_final\",\n",
    "        project=PROJECT,\n",
    "        entity=ENTITY,\n",
    "        config=wandbot_config,\n",
    "        )\n",
    "\n",
    "artifacts = load_artifacts(wandb.config)"
   ]
  },
  {
   "attachments": {},
   "cell_type": "markdown",
   "metadata": {},
   "source": [
    "### Prompts"
   ]
  },
  {
   "attachments": {},
   "cell_type": "markdown",
   "metadata": {},
   "source": [
    "Load wandbot v1 prompts"
   ]
  },
  {
   "cell_type": "code",
   "execution_count": 11,
   "metadata": {},
   "outputs": [],
   "source": [
    "# LOAD DATA AND PROMPTS FROM ARTIFACTS\n",
    "faiss_dir = artifacts[\"faiss\"]\n",
    "hyde_prompt_template =  open(artifacts[\"hyde_prompt\"]).read()\n",
    "wandbot_v1_system_prompt_template = open(artifacts[\"chat_prompt\"]).read()\n",
    "human_message_prompt_template = \"{question}\"\n",
    "\n",
    "\n",
    "# SETUP Hypothetical Document Embedder (HyDE)\n",
    "hyde_messages = [\n",
    "    SystemMessagePromptTemplate.from_template(hyde_prompt_template),\n",
    "    HumanMessagePromptTemplate.from_template(\"{question}\"),\n",
    "]\n",
    "hyde_prompt = ChatPromptTemplate.from_messages(hyde_messages)"
   ]
  },
  {
   "attachments": {},
   "cell_type": "markdown",
   "metadata": {},
   "source": [
    "### Alternative System Prompts\n",
    "\n",
    "Create alternate wandbot prompts to test"
   ]
  },
  {
   "cell_type": "code",
   "execution_count": 12,
   "metadata": {},
   "outputs": [],
   "source": [
    "system_prompts = {}\n",
    "\n",
    "system_prompts[\"wandbot_v1_few_shot\"] = wandbot_v1_system_prompt_template\n",
    "\n",
    "system_prompts[\"wandbot_v1_zero_shot\"]= \"\"\"\n",
    "As an AI assistant for the open source library wandb, your task is to answer questions based on \n",
    "the given extracted parts of a long document and the question. You can provide a conversational \n",
    "answer with a hyperlink to the documentation only if it is explicitly listed as a source in the context. \n",
    "\n",
    "Provide a code block directly from the documentation wherever possible. If you do not know the answer, \n",
    "you can say \"Hmm, I'm not sure.\" If the question is not related to wandb or Weights & Biases, politely \n",
    "inform the user that you can only answer questions related to wandb. The documentation for wandb can be\n",
    "found at https://docs.wandb.ai.\n",
    "\n",
    "Begin:\n",
    "================\n",
    "\n",
    "Question: {question}\n",
    "================\n",
    "{summaries}\n",
    "================\n",
    "Final Answer in Markdown:\n",
    "\"\"\"\n",
    "\n",
    "system_prompts[\"default_langchain_qa\"]= \"\"\"\n",
    "Use the following pieces of context to answer the question at the end. If you don't know the answer, \n",
    "just say that you don't know, don't try to make up an answer.\n",
    "\n",
    "{summaries}\n",
    "\n",
    "Question: {question}\n",
    "Helpful Answer:\n",
    "\"\"\""
   ]
  },
  {
   "attachments": {},
   "cell_type": "markdown",
   "metadata": {},
   "source": [
    "Get prompt token counts"
   ]
  },
  {
   "cell_type": "code",
   "execution_count": 13,
   "metadata": {},
   "outputs": [
    {
     "name": "stdout",
     "output_type": "stream",
     "text": [
      "wandbot_v1_few_shot token count: 660\n",
      "wandbot_v1_zero_shot token count: 165\n",
      "default_langchain_qa token count: 54\n"
     ]
    }
   ],
   "source": [
    "import tiktoken\n",
    "enc = tiktoken.encoding_for_model(\"gpt-4\")\n",
    "jj = enc.encode(\"hello world\")\n",
    "len(jj)\n",
    "\n",
    "for k in system_prompts.keys():\n",
    "    print(f\"{k} token count: {len(enc.encode(system_prompts[k]))}\")"
   ]
  },
  {
   "attachments": {},
   "cell_type": "markdown",
   "metadata": {},
   "source": [
    "### Evaluation Propmt"
   ]
  },
  {
   "attachments": {},
   "cell_type": "markdown",
   "metadata": {},
   "source": [
    "OpenAI Evaluation Prompt"
   ]
  },
  {
   "cell_type": "code",
   "execution_count": 14,
   "metadata": {},
   "outputs": [],
   "source": [
    "openai_eval_system_prompt = \"\"\"As an experienced software quality assurance tester, you are evaluating the quality of the response (WANDBOT_RESPONSE) from a\n",
    "Weights & Biasses (aka wandb, W&B) support bot called `wandbot`. Weights & Biasses is a machine learning ops (MLOps) python library and app.\n",
    "Supporting documentation (SUPPORTING_DOCUMENTATION) is provided to help you assess the quality of the response. You job is to grade (GRADE) the response.\n",
    "\n",
    "Grade the following WANDBOT_RESPONSE given the USER_QUESTION and SUPPORTING_DOCUMENTATION. \n",
    "Grade the WANDBOT_RESPONSE based ONLY on its factual accuracy. It is OK if the WANDBOT_RESPONSE contains more information than in SUPPORTING_DOCUMENTATION, as long as it does not contain any conflicting statements.\n",
    "Your GRADE should only be POSITIVE or NEGATIVE to indicate whether the WANDBOT_RESPONSE is accurate or not given the SUPPORTING_DOCUMENTATION.\n",
    "If WANDBOT_RESPONSE says that there is no specific information provided in the context or that it doesn't know, then the GRADE is NEGATIVE.\n",
    "Be sure to read the SUPPORTING_DOCUMENTATION carefully before grading the WANDBOT_RESPONSE and be highlighly critical of the WANDBOT_RESPONSE.\n",
    "Only respond with POSITIVE or NEGATIVE for GRADE. \n",
    "In GRADE_JUSTIFICATION, explain why your GRADE of WANDBOT_RESPONSE is POSITIVE or NEGATIVE. Use one or two sentences maximum. Keep the GRADE_JUSTIFICATION as concise as possible.\n",
    "Remember, you are only grading the WANDBOT_RESPONSE. The SUPPORTING_DOCUMENTATION is only provided to help you grade the WANDBOT_RESPONSE.\n",
    "\n",
    "This is the format of the input USER_QUESTION, WANDBOT_RESPONSE and SUPPORTING_DOCUMENTATION that you will be given as well as the format of the GRADE_JUSTIFICATION and GRADE that you will provide:\n",
    "\n",
    "\n",
    "USER_QUESTION: user question here\n",
    "WANDBOT_RESPONSE: the response from the `wandbot` support bot here\n",
    "SUPPORTING_DOCUMENTATION: retrieved documentation from the wandb docs here\n",
    "\n",
    "\n",
    "GRADE_JUSTIFICATION: justification for the GRADE here, keep it concise, 1 or 2 sentences only\n",
    "GRADE: POSITIVE or NEGATIVE here\n",
    "\n",
    "\n",
    "Remember, start your reponse with \"GRADE_JUSTIFICATION\". You must also ways provide a \"GRADE\". Begin!\n",
    "\"\"\""
   ]
  },
  {
   "attachments": {},
   "cell_type": "markdown",
   "metadata": {},
   "source": [
    "\"Remember, you are only grading the WANDBOT_RESPONSE. The SUPPORTING_DOCUMENTATION is only provided to help you grade the WANDBOT_RESPONSE.\" \n",
    "- neagtive grade based on what was in supporting docs, even though response was correct\n",
    "\n",
    "\"You must always provide both a GRADE_JUSTIFICATION and a GRADE\" - missing GRADE\n",
    "\n",
    "\"Remember, start your reponse with \"GRADE_JUSTIFICATION\". You must also ways provide a \"GRADE\".\" and added \"GRADE_JUSTIFICATION:\" to the end of the human template - it started to reply with \"USER_QUESTION:...\" etc"
   ]
  },
  {
   "cell_type": "code",
   "execution_count": 15,
   "metadata": {},
   "outputs": [],
   "source": [
    "example_human = \"\"\"\n",
    "\n",
    "USER_QUESTION: How do I create a wandb sweep?\n",
    "WANDBOT_RESPONSE: To create a W&B Articfact, you can use the wandb.Artifact class like so ```artifact = wandb.Artifact(name='bicycle-dataset', type='dataset')```\n",
    "SUPPORTING_DOCUMENTATION: '{{\"source_doc_0\": {{\"page_content\": \"Use Weights & Biases Sweeps to automate hyperparameter search and explore the space of possible models. Create a sweep with a few lines of code.\", \"metadata\": \"https://docs.wandb.ai/guide\", \"lookup_index\": 0, \"lookup_str\": \"\"}}}}'\n",
    "\n",
    "\"\"\"\n",
    "\n",
    "example_assistant = \"\"\"\n",
    "GRADE_JUSTIFICATION: The USER_QUESTION was about how to create a wandb sweep, but the WANDBOT_RESPONSE answers how to create a wandb artifact. Therefore the WANDBOT_RESPONSE is not accurate and I will give a negative grade.\n",
    "GRADE: NEGATIVE\n",
    "\n",
    "\"\"\"\n",
    "\n",
    "eval_human_message_prompt_template = \"\"\"\n",
    "\n",
    "USER_QUESTION: {question}\n",
    "WANDBOT_RESPONSE: {answer}\n",
    "SUPPORTING_DOCUMENTATION: {source_documents}.\n",
    "\n",
    "\n",
    "GRADE_JUSTIFICATION:\"\"\""
   ]
  },
  {
   "cell_type": "code",
   "execution_count": 16,
   "metadata": {},
   "outputs": [],
   "source": [
    "eval_messages = [\n",
    "    SystemMessagePromptTemplate.from_template(openai_eval_system_prompt),\n",
    "    HumanMessagePromptTemplate.from_template(example_human, additional_kwargs={\"name\": \"example_user\"}),\n",
    "    AIMessagePromptTemplate.from_template(example_assistant, additional_kwargs={\"name\": \"example_assistant\"}),\n",
    "    HumanMessagePromptTemplate.from_template(eval_human_message_prompt_template)\n",
    "]\n",
    "eval_prompt = ChatPromptTemplate.from_messages(eval_messages)"
   ]
  },
  {
   "attachments": {},
   "cell_type": "markdown",
   "metadata": {},
   "source": [
    "### Load Embeddings and Vector Store"
   ]
  },
  {
   "cell_type": "code",
   "execution_count": 20,
   "metadata": {},
   "outputs": [],
   "source": [
    "base_embeddings = OpenAIEmbeddings()\n",
    "embeddings = HypotheticalDocumentEmbedder(\n",
    "    llm_chain=LLMChain(llm=ChatOpenAI(\n",
    "        temperature=wandb.config.hyde_llm_temperature), \n",
    "        prompt=hyde_prompt),\n",
    "    base_embeddings=base_embeddings,\n",
    "    verbose=False\n",
    ")\n",
    "\n",
    "# LOAD FAISS VECTOR STORE\n",
    "vector_store = FAISSWithScore.load_local(faiss_dir, embeddings)"
   ]
  },
  {
   "cell_type": "code",
   "execution_count": 21,
   "metadata": {},
   "outputs": [],
   "source": [
    "# LOAD QA CHAINS FOR EACH SYSTEM PROMPT\n",
    "def load_qa_chain(system_prompt_template, vector_store=vector_store, chain_type=\"stuff\"):\n",
    "    qa_messages = [\n",
    "        SystemMessagePromptTemplate.from_template(system_prompt_template, input_variables=[\"context\", \"question\"]),\n",
    "        HumanMessagePromptTemplate.from_template(human_message_prompt_template),\n",
    "    ]   \n",
    "    qa_prompt = ChatPromptTemplate.from_messages(qa_messages)\n",
    "\n",
    "    llm = ChatOpenAI(\n",
    "        model_name=wandb.config.model_name,\n",
    "        temperature=wandb.config.temperature,\n",
    "        request_timeout=120\n",
    "        )\n",
    "\n",
    "    qa_chain = RetrievalQAWithSourcesChainWithScore.from_chain_type(\n",
    "        llm = llm,\n",
    "        chain_type=chain_type,\n",
    "        retriever=vector_store.as_retriever(),\n",
    "        chain_type_kwargs={\"prompt\": qa_prompt},\n",
    "        return_source_documents=True,\n",
    "        verbose=False\n",
    "    )\n",
    "    return qa_chain\n"
   ]
  },
  {
   "attachments": {},
   "cell_type": "markdown",
   "metadata": {},
   "source": [
    "Create timestamps"
   ]
  },
  {
   "cell_type": "code",
   "execution_count": 22,
   "metadata": {},
   "outputs": [
    {
     "data": {
      "text/plain": [
       "10000"
      ]
     },
     "execution_count": 22,
     "metadata": {},
     "output_type": "execute_result"
    }
   ],
   "source": [
    "import pandas as pd\n",
    "import numpy as np\n",
    "\n",
    "def generate_timestamps(n=10000, start_date='2023-03-01', end_date='2023-05-31'):\n",
    "    # Range of datetimes with 1-minute intervals\n",
    "    rng = pd.date_range(start_date, end_date, freq='S')\n",
    "\n",
    "    # Create weights for all datetimes\n",
    "    weights = pd.Series(1, index=rng)\n",
    "\n",
    "    # Decrease weights for weekends\n",
    "    weights[rng.to_series().dt.dayofweek > 4] *= 0.5\n",
    "\n",
    "    # Decrease weight for Easter Sunday (2023-04-09)\n",
    "    easter = pd.to_datetime('2023-04-09')\n",
    "    weights[rng.to_series().between(easter, easter + pd.DateOffset(days=1))] *= 0.5\n",
    "    easter_monday = pd.to_datetime('2023-04-10')\n",
    "    weights[rng.to_series().between(easter_monday, easter_monday + pd.DateOffset(days=1))] *= 0.5\n",
    "\n",
    "    # Increase weights for 8am-6pm on weekdays\n",
    "    mask = ((rng.to_series().dt.hour >= 8) & (rng.to_series().dt.hour <= 18) & (rng.to_series().dt.dayofweek <= 4))\n",
    "    weights[mask] *= 1.2\n",
    "\n",
    "    # Increase weights for Tuesday, Wednesday, Thursday\n",
    "    mask = ((rng.to_series().dt.dayofweek >= 1) & (rng.to_series().dt.dayofweek <= 3))\n",
    "    weights[mask] *= 1.5\n",
    "\n",
    "    # Normalize weights\n",
    "    weights /= weights.sum()\n",
    "\n",
    "    # Sample 10000 datetimes using weights\n",
    "    sampled_datetimes = np.random.choice(rng, size=n, p=weights)\n",
    "\n",
    "    # Sort the datetimes\n",
    "    sampled_datetimes.sort()\n",
    "\n",
    "    return sampled_datetimes\n",
    "\n",
    "timestamps = generate_timestamps()\n",
    "len(timestamps)"
   ]
  },
  {
   "cell_type": "code",
   "execution_count": 23,
   "metadata": {},
   "outputs": [
    {
     "data": {
      "image/png": "[encoded data removed]",
      "text/plain": [
       "<Figure size 1000x600 with 1 Axes>"
      ]
     },
     "metadata": {},
     "output_type": "display_data"
    }
   ],
   "source": [
    "import matplotlib.pyplot as plt\n",
    "\n",
    "def plot_timestamps(timestamps):\n",
    "    plt.figure(figsize=(10,6))\n",
    "    plt.hist(timestamps, bins=100, alpha=0.5, color='blue')\n",
    "    plt.xlabel('Datetime')\n",
    "    plt.ylabel('Frequency')\n",
    "    plt.title('Distribution of Timestamps')\n",
    "    plt.show()\n",
    "\n",
    "timestamps = generate_timestamps()\n",
    "timestamps_list = [t for t in timestamps]\n",
    "# timestamps_list[0]\n",
    "\n",
    "plot_timestamps(timestamps_list)"
   ]
  },
  {
   "cell_type": "code",
   "execution_count": 24,
   "metadata": {},
   "outputs": [],
   "source": [
    "\n",
    "# WANDB LOGGING CONFIG\n",
    "wandb_config = {\"project\": PROJECT, \"entity\":ENTITY}  # config for OpenAI autologger\n",
    "\n",
    "table_cols = [\n",
    "  \"request_timestamp\",\"request_id\", \"question\", \"question_id\", \"wandbot_answer\", \"retrived_source_documents\",\n",
    "  \"answer_elapsed_time_s\", \"synth_grader_feedback\", \"grader_justification\", # \"eval_completion\",\n",
    "  \"prompt_tokens\", \"completion_tokens\", \"total_tokens\",\n",
    "  \"answer_cost_usd\", \"successful_requests\", \"answer_system_prompt_version\",\n",
    "  \"eval_elapsed_time_s\", \"eval_cost_usd\",  \"eval_total_tokens\", \"eval_tokens_for_source_docs\", \"eval_prompt_tokens\", \"eval_completion_tokens\", \"is_source_documents_truncated\",\n",
    "  # \"system_prompt_template\", \"human_message_prompt_template\", \"hyde_prompt_template\", \"eval_prompt_template\",\n",
    "  \"wandb_run_id\", \"wandbot_model\", \"wandbot_temperature\", \"hyde_llm_temperature\", \n",
    "  \"eval_model\", \n",
    "]"
   ]
  },
  {
   "attachments": {},
   "cell_type": "markdown",
   "metadata": {},
   "source": [
    "### Load Questions"
   ]
  },
  {
   "cell_type": "code",
   "execution_count": null,
   "metadata": {},
   "outputs": [],
   "source": [
    "# import wandb\n",
    "# # run = wandb.init()\n",
    "# artifact = wandb.use_artifact('wandbot/wandbot_synth/run-g4rjeq92-logsqa_with_eval_final2:latest', type='run_table')\n",
    "# df = artifact.get(\"logs/qa_with_eval_final2\").get_dataframe()\n",
    "# df"
   ]
  },
  {
   "cell_type": "code",
   "execution_count": null,
   "metadata": {},
   "outputs": [
    {
     "name": "stderr",
     "output_type": "stream",
     "text": [
      "\u001b[34m\u001b[1mwandb\u001b[0m:   1 of 1 files downloaded.  \n"
     ]
    },
    {
     "name": "stdout",
     "output_type": "stream",
     "text": [
      "9670\n"
     ]
    },
    {
     "data": {
      "text/html": [
       "<div>\n",
       "<style scoped>\n",
       "    .dataframe tbody tr th:only-of-type {\n",
       "        vertical-align: middle;\n",
       "    }\n",
       "\n",
       "    .dataframe tbody tr th {\n",
       "        vertical-align: top;\n",
       "    }\n",
       "\n",
       "    .dataframe thead th {\n",
       "        text-align: right;\n",
       "    }\n",
       "</style>\n",
       "<table border=\"1\" class=\"dataframe\">\n",
       "  <thead>\n",
       "    <tr style=\"text-align: right;\">\n",
       "      <th></th>\n",
       "      <th>prompt</th>\n",
       "      <th>document</th>\n",
       "      <th>question</th>\n",
       "      <th>question_id</th>\n",
       "    </tr>\n",
       "  </thead>\n",
       "  <tbody>\n",
       "    <tr>\n",
       "      <th>0</th>\n",
       "      <td>Let's start!\\n                Please generate ...</td>\n",
       "      <td>../docodile/docs/guides/artifacts/intro.md</td>\n",
       "      <td>Can one run use another run's output Artifact ...</td>\n",
       "      <td>3280</td>\n",
       "    </tr>\n",
       "    <tr>\n",
       "      <th>1</th>\n",
       "      <td>Let's start!\\n                Please generate ...</td>\n",
       "      <td>../docodile/docs/ref/cli/wandb-sync.md</td>\n",
       "      <td>How can you specify the project you want to up...</td>\n",
       "      <td>8227</td>\n",
       "    </tr>\n",
       "    <tr>\n",
       "      <th>2</th>\n",
       "      <td>Let's start!\\n                Please generate ...</td>\n",
       "      <td>../docodile/docs/ref/cli/wandb-login.md</td>\n",
       "      <td>What is the maximum number of authentication k...</td>\n",
       "      <td>8322</td>\n",
       "    </tr>\n",
       "    <tr>\n",
       "      <th>3</th>\n",
       "      <td>Let's start!\\n                Please generate ...</td>\n",
       "      <td>../docodile/docs/ref/cli/wandb-pull.md</td>\n",
       "      <td>Is Wandb Pull only used for downloading files ...</td>\n",
       "      <td>2683</td>\n",
       "    </tr>\n",
       "    <tr>\n",
       "      <th>4</th>\n",
       "      <td>Let's start!\\n                Please generate ...</td>\n",
       "      <td>../docodile/docs/guides/sweeps/visualize-sweep...</td>\n",
       "      <td>What kind of behavior can be altered in the Ed...</td>\n",
       "      <td>6993</td>\n",
       "    </tr>\n",
       "  </tbody>\n",
       "</table>\n",
       "</div>"
      ],
      "text/plain": [
       "                                              prompt  \\\n",
       "0  Let's start!\\n                Please generate ...   \n",
       "1  Let's start!\\n                Please generate ...   \n",
       "2  Let's start!\\n                Please generate ...   \n",
       "3  Let's start!\\n                Please generate ...   \n",
       "4  Let's start!\\n                Please generate ...   \n",
       "\n",
       "                                            document  \\\n",
       "0         ../docodile/docs/guides/artifacts/intro.md   \n",
       "1             ../docodile/docs/ref/cli/wandb-sync.md   \n",
       "2            ../docodile/docs/ref/cli/wandb-login.md   \n",
       "3             ../docodile/docs/ref/cli/wandb-pull.md   \n",
       "4  ../docodile/docs/guides/sweeps/visualize-sweep...   \n",
       "\n",
       "                                            question  question_id  \n",
       "0  Can one run use another run's output Artifact ...         3280  \n",
       "1  How can you specify the project you want to up...         8227  \n",
       "2  What is the maximum number of authentication k...         8322  \n",
       "3  Is Wandb Pull only used for downloading files ...         2683  \n",
       "4  What kind of behavior can be altered in the Ed...         6993  "
      ]
     },
     "execution_count": 25,
     "metadata": {},
     "output_type": "execute_result"
    }
   ],
   "source": [
    "artifact = wandb.use_artifact('wandbot/wandbot_synth/run-2cv1ao9n-generated_questions_table:v0', type='run_table')\n",
    "# artifact_dir = artifact.download(\"data\")\n",
    "df = artifact.get(\"generated_questions_table\").get_dataframe()\n",
    "df[\"question_id\"] = df.index\n",
    "\n",
    "# SHUFFLE THE QUESTIONS\n",
    "# np.random.shuffle(questions)\n",
    "df = df.sample(frac=1).reset_index(drop=True)\n",
    "print(len(df))\n",
    "\n",
    "df.head()"
   ]
  },
  {
   "attachments": {},
   "cell_type": "markdown",
   "metadata": {},
   "source": [
    "### Setup Evaluation Model"
   ]
  },
  {
   "attachments": {},
   "cell_type": "markdown",
   "metadata": {},
   "source": [
    "Setup OpenAI Evaluator"
   ]
  },
  {
   "cell_type": "code",
   "execution_count": 26,
   "metadata": {},
   "outputs": [],
   "source": [
    "eval_llm = ChatOpenAI(\n",
    "    model_name=wandb.config.eval_model,\n",
    "    temperature=wandb.config.openai_eval_llm_temperature,\n",
    "    request_timeout=120\n",
    "    )\n",
    "\n",
    "eval_chain = LLMChain(llm=eval_llm, \n",
    "                      prompt=eval_prompt)"
   ]
  },
  {
   "attachments": {},
   "cell_type": "markdown",
   "metadata": {},
   "source": [
    "Get eval_prompt template token usage"
   ]
  },
  {
   "cell_type": "code",
   "execution_count": 27,
   "metadata": {},
   "outputs": [
    {
     "name": "stdout",
     "output_type": "stream",
     "text": [
      "Eval prompt template token count: 701\n"
     ]
    }
   ],
   "source": [
    "# CALCUALTE THE EMPTY EVAL PROMPT TEAMPLATE TOKEN COUNT\n",
    "openai_eval_prompt_template_txt = \"\"\n",
    "for m in eval_prompt.messages:\n",
    "    openai_eval_prompt_template_txt+=m.prompt.template\n",
    "\n",
    "enc = tiktoken.encoding_for_model(wandb.config.eval_model)\n",
    "eval_prompt_template_token_count = len(enc.encode(openai_eval_prompt_template_txt))\n",
    "print(f\"Eval prompt template token count: {eval_prompt_template_token_count}\")\n",
    "\n",
    "# REDUCE THE SOURCE DOCUMENTS TO FIT IN THE EVAL PROMPT\n",
    "def check_and_shorten_openai_eval_source_docs(question, answer, source_documents, \n",
    "                                              eval_prompt_template_token_count=eval_prompt_template_token_count,\n",
    "                                              max_eval_tokens=4096, completion_tokens=200):\n",
    "    '''\n",
    "    Sometimes the source docs are too long and we need to shorten them to fit in the eval prompt\n",
    "    max_eval_tokens : context length of the eval model\n",
    "    completion_tokens : if there is a need to reserve some tokens for the completion\n",
    "    '''\n",
    "\n",
    "    question_tokens = len(enc.encode(question))\n",
    "    answer_tokens = len(enc.encode(answer))\n",
    "    available_source_tokens = max_eval_tokens - (eval_prompt_template_token_count + question_tokens + answer_tokens) - completion_tokens\n",
    "\n",
    "    if available_source_tokens < 0:\n",
    "        source_documents = \"\"\n",
    "        source_documents_truncated = True\n",
    "        tokens_left_for_source_documents = 0\n",
    "        return source_documents, source_documents_truncated, tokens_left_for_source_documents\n",
    "    else:\n",
    "        source_docs_token_ids = enc.encode(source_documents)\n",
    "        source_docs_tokens = len(source_docs_token_ids)\n",
    "    \n",
    "        remaining_tokens = available_source_tokens - source_docs_tokens\n",
    "        if remaining_tokens < 0:\n",
    "            tokens_left_for_source_documents = available_source_tokens-10\n",
    "            source_documents = enc.decode(source_docs_token_ids[:tokens_left_for_source_documents])\n",
    "            source_documents_truncated = True\n",
    "        else:\n",
    "            source_documents_truncated = False\n",
    "            tokens_left_for_source_documents = source_docs_tokens\n",
    "        return source_documents, source_documents_truncated, tokens_left_for_source_documents"
   ]
  },
  {
   "cell_type": "code",
   "execution_count": 28,
   "metadata": {},
   "outputs": [
    {
     "data": {
      "text/plain": [
       "(False, 701)"
      ]
     },
     "execution_count": 28,
     "metadata": {},
     "output_type": "execute_result"
    }
   ],
   "source": [
    "question = \"what is wandb?\"\n",
    "answer = \"Weights & Biases is a machine learning platform for teams.\"\n",
    "source_documents = \"[hey, this is a document]\"*100\n",
    "\n",
    "_, source_documents_truncated, tokens_left_for_source_documents = check_and_shorten_openai_eval_source_docs(question, answer, source_documents)\n",
    "source_documents_truncated, tokens_left_for_source_documents"
   ]
  },
  {
   "attachments": {},
   "cell_type": "markdown",
   "metadata": {},
   "source": [
    "## Run Synth WandBot"
   ]
  },
  {
   "attachments": {},
   "cell_type": "markdown",
   "metadata": {},
   "source": [
    "Setup chain variants"
   ]
  },
  {
   "cell_type": "code",
   "execution_count": 30,
   "metadata": {},
   "outputs": [
    {
     "data": {
      "text/plain": [
       "dict_keys(['wandbot_v1_few_shot', 'wandbot_v1_zero_shot', 'default_langchain_qa'])"
      ]
     },
     "execution_count": 30,
     "metadata": {},
     "output_type": "execute_result"
    }
   ],
   "source": [
    "chains = {}\n",
    "for system_prompt in system_prompts.keys():\n",
    "    chains[f\"{system_prompt}\"] = load_qa_chain(system_prompts[system_prompt], vector_store, chain_type=\"stuff\")\n",
    "\n",
    "chains.keys()"
   ]
  },
  {
   "cell_type": "code",
   "execution_count": 35,
   "metadata": {},
   "outputs": [],
   "source": [
    "\n",
    "import traceback\n",
    "import langchain; \n",
    "langchain.debug=False\n",
    "\n",
    "# for i_q, question in enumerate(questions):\n",
    "# def answer_and_grade(i_q, questions, chains, timestamps):\n",
    "def answer_and_grade(args):\n",
    "    ii, question_id, question, chains, tstamp = args\n",
    "\n",
    "    if (question == \"\") or (question is None):\n",
    "        return\n",
    "\n",
    "    # USER QUERY\n",
    "    request_id = generate_id(length=16)\n",
    "    \n",
    "    # RUN CHAIN\n",
    "    system_prompt = random.choice(list(chains.keys()))\n",
    "    qa_chain = chains[system_prompt]\n",
    "\n",
    "    try:\n",
    "        start_time = time.time()\n",
    "        with get_openai_callback() as openai_cb:\n",
    "            response = qa_chain({\"question\": question}, \n",
    "                                callbacks=[WandbTracer(wandb_config)],\n",
    "                                return_only_outputs=False,\n",
    "                                )\n",
    "        end_time = time.time()\n",
    "        elapsed_time = end_time - start_time\n",
    "        answer = response[\"answer\"]\n",
    "\n",
    "        # RETRIEVED DOCUMENTS\n",
    "        source_docs = response[\"source_documents\"]\n",
    "        source_documents = parse_source_documents(source_docs)\n",
    "\n",
    "        # TOKEN METRICS\n",
    "        prompt_tokens = openai_cb.prompt_tokens\n",
    "        completion_tokens = openai_cb.completion_tokens\n",
    "        total_tokens = openai_cb.total_tokens\n",
    "        total_cost = openai_cb.total_cost\n",
    "        successful_requests = openai_cb.successful_requests\n",
    "\n",
    "        # GENERATE SYNTHETIC USER FEEDBACK       \n",
    "        try:     \n",
    "            eval_source_documents, is_source_documents_truncated, eval_tokens_left_for_source_documents = check_and_shorten_openai_eval_source_docs(question, answer, source_documents)\n",
    "\n",
    "            eval_start_time = time.time()\n",
    "            with get_openai_callback() as openai_eval_cb:\n",
    "                response = eval_chain({\n",
    "                            \"question\": question, \n",
    "                            \"answer\": answer, \n",
    "                            \"source_documents\": eval_source_documents},\n",
    "                            callbacks=[WandbTracer(wandb_config)],\n",
    "                            )\n",
    "                \n",
    "            eval_end_time = time.time()\n",
    "            eval_elapsed_time = eval_end_time - eval_start_time\n",
    "            eval_completion = response[\"text\"]\n",
    "\n",
    "            # EVAL TOKEN METRICS\n",
    "            eval_prompt_tokens = openai_eval_cb.prompt_tokens\n",
    "            eval_completion_tokens = openai_eval_cb.completion_tokens\n",
    "            eval_total_tokens = openai_eval_cb.total_tokens\n",
    "            eval_cost = openai_eval_cb.total_cost\n",
    "            eval_successful_requests = openai_eval_cb.successful_requests\n",
    "\n",
    "            grader_justification = eval_completion.split(\"GRADE:\")[0].strip()\n",
    "            if \"positive\" in eval_completion.lower():\n",
    "                grader_feedback = \"POSITIVE\"  \n",
    "            elif \"negative\" in eval_completion.lower():\n",
    "                grader_feedback = \"NEGATIVE\"\n",
    "            else:\n",
    "                grader_feedback = \"GRADER_FAILURE\"\n",
    "\n",
    "        except Exception as eval_e:\n",
    "            error_message = f\"Question {question_id}, Eval Error occured: {eval_e}\"\n",
    "            print(error_message)\n",
    "\n",
    "            eval_prompt_tokens = 0\n",
    "            eval_completion_tokens = 0\n",
    "            eval_total_tokens = 0\n",
    "            eval_cost = 0\n",
    "            eval_elapsed_time = 0\n",
    "            eval_completion = \"FAILURE\"\n",
    "            grader_feedback = \"GRADER_FAILURE\"\n",
    "            grader_justification = error_message\n",
    "\n",
    "            traceback.print_exc() \n",
    "\n",
    "        # LOG TO WANDB\n",
    "        wandb_table = wandb.Table(table_cols)\n",
    "        wandb_table.add_data(tstamp, request_id, question, question_id, answer, source_documents,\n",
    "                            elapsed_time, grader_feedback, grader_justification, # eval_completion,\n",
    "                            prompt_tokens, completion_tokens, total_tokens,\n",
    "                            total_cost, successful_requests, system_prompt,\n",
    "                            eval_elapsed_time, eval_cost, eval_total_tokens, eval_tokens_left_for_source_documents, eval_prompt_tokens, eval_completion_tokens, is_source_documents_truncated,\n",
    "                            # system_prompts[system_prompt], human_message_prompt_template, hyde_prompt_template, openai_eval_prompt_template_txt,\n",
    "                            wandb.run.id, wandb.config.model_name, wandb.config.temperature, wandb.config.hyde_llm_temperature, \n",
    "                            wandb.config.eval_model)\n",
    "        wandb.log({\"logs/qa_with_eval_final2\": wandb_table})\n",
    "\n",
    "    except Exception as e:\n",
    "        print(f\"Question {question_id}, Error occured: {e}\")\n",
    "        traceback.print_exc()\n",
    "        \n",
    "    if ii % 50 == 0: print(ii)"
   ]
  },
  {
   "cell_type": "code",
   "execution_count": 79,
   "metadata": {},
   "outputs": [],
   "source": [
    "# config_table_cols = [\"query_id\",\"run_id\",  \"system_prompt_template\", \n",
    "#                      \"human_message_prompt_template\", \"hyde_prompt_template\", \"eval_grader_prompt_template\"]\n",
    "# config_table = wandb.Table(config_table_cols)  \n",
    "# config_table.add_data(query_id, wandb.run.id, system_prompts[system_prompt], \n",
    "#                       human_message_prompt_template, hyde_prompt_template, eval_grader_prompt_template)\n",
    "# wandb.log({\"logs/config_table_test\": config_table})"
   ]
  },
  {
   "attachments": {},
   "cell_type": "markdown",
   "metadata": {},
   "source": [
    "### Run logging in parellal"
   ]
  },
  {
   "attachments": {},
   "cell_type": "markdown",
   "metadata": {},
   "source": [
    "Set number of examples to run"
   ]
  },
  {
   "cell_type": "code",
   "execution_count": 36,
   "metadata": {},
   "outputs": [],
   "source": [
    "n = len(df[\"question\"].values.tolist()) #10000\n",
    "qs = df[\"question\"].values.tolist()[:n]\n",
    "q_ids = df[\"question_id\"].values.tolist()[:n]\n",
    "ts = timestamps_list[:n]\n",
    "\n",
    "n, len(qs), len(q_ids), len(ts)"
   ]
  },
  {
   "attachments": {},
   "cell_type": "markdown",
   "metadata": {},
   "source": [
    "Run in parallel"
   ]
  },
  {
   "cell_type": "code",
   "execution_count": null,
   "metadata": {},
   "outputs": [],
   "source": [
    "import time\n",
    "from fastcore.parallel import parallel\n",
    "\n",
    "start = time.perf_counter()\n",
    "parallel(answer_and_grade, list(zip(list(range(len(qs))), q_ids, qs, [chains]*len(qs), ts)), \n",
    "         n_workers=7, progress=True)  \n",
    "end = time.perf_counter()\n",
    "\n",
    "print(f'Time taken for {n} questions: {end - start} seconds, {(end - start)/n} seconds per question')"
   ]
  },
  {
   "cell_type": "code",
   "execution_count": 32,
   "metadata": {},
   "outputs": [],
   "source": [
    "# res  = answer_and_grade((1, q_ids[0], qs[0], chains, ts[0]))"
   ]
  },
  {
   "attachments": {},
   "cell_type": "markdown",
   "metadata": {},
   "source": [
    "Log additional reference tables"
   ]
  },
  {
   "cell_type": "code",
   "execution_count": null,
   "metadata": {},
   "outputs": [],
   "source": [
    "system_prompts_cols = [\"run_id\", \"system_prompt_version\", \"system_prompt\"]\n",
    "system_prompts_table = wandb.Table(system_prompts_cols)  \n",
    "for c in chains.keys():\n",
    "    system_prompts_table.add_data(wandb.run.id, c, system_prompts[c])\n",
    "wandb.log({\"logs/answer_prompt_versions\": system_prompts_table})\n",
    "\n",
    "other_prompts_cols = [\"run_id\", \"eval_grader_prompt_template\", \"human_message_prompt_template\"]\n",
    "other_prompts_table = wandb.Table(other_prompts_cols)  \n",
    "for c in chains.keys():\n",
    "    other_prompts_table.add_data(wandb.run.id, human_message_prompt_template, hyde_prompt_template, openai_eval_prompt_template_txt)\n",
    "wandb.log({\"logs/other_prompts\": other_prompts_table})"
   ]
  },
  {
   "cell_type": "code",
   "execution_count": null,
   "metadata": {},
   "outputs": [
    {
     "data": {
      "text/html": [
       "Waiting for W&B process to finish... <strong style=\"color:green\">(success).</strong>"
      ],
      "text/plain": [
       "<IPython.core.display.HTML object>"
      ]
     },
     "metadata": {},
     "output_type": "display_data"
    },
    {
     "data": {
      "text/html": [
       " View run <strong style=\"color:#cdcd00\">synth_answer_generation_test_13</strong> at: <a href='https://wandb.ai/wandbot/wandbot_synth/runs/su5lnq02' target=\"_blank\">https://wandb.ai/wandbot/wandbot_synth/runs/su5lnq02</a><br/>Synced 6 W&B file(s), 12 media file(s), 12 artifact file(s) and 0 other file(s)"
      ],
      "text/plain": [
       "<IPython.core.display.HTML object>"
      ]
     },
     "metadata": {},
     "output_type": "display_data"
    },
    {
     "data": {
      "text/html": [
       "Find logs at: <code>./wandb/run-20230522_112408-su5lnq02/logs</code>"
      ],
      "text/plain": [
       "<IPython.core.display.HTML object>"
      ]
     },
     "metadata": {},
     "output_type": "display_data"
    }
   ],
   "source": [
    "WandbTracer.finish()"
   ]
  },
  {
   "cell_type": "code",
   "execution_count": null,
   "metadata": {},
   "outputs": [
    {
     "name": "stdout",
     "output_type": "stream",
     "text": [
      "DONE!\n"
     ]
    }
   ],
   "source": [
    "print(\"DONE!\")"
   ]
  },
  {
   "attachments": {},
   "cell_type": "markdown",
   "metadata": {},
   "source": [
    "# Archive\n",
    "### Unused Prompts\n",
    "Cohere Command Grader Prompt"
   ]
  },
  {
   "cell_type": "code",
   "execution_count": null,
   "metadata": {},
   "outputs": [],
   "source": [
    "# human_prompt = \"Human:\"\n",
    "# assistant_prompt = \"GRADER_RESPONSE\"\n",
    "\n",
    "# grade_command = \"\"\"Grade the following WANDBOT_RESPONSE given the USER_QUESTION and SUPPORTING_DOCUMENTATION. \n",
    "# Grade the WANDBOT_RESPONSE based ONLY on its factual accuracy. It is OK if the WANDBOT_RESPONSE contains more information than in SUPPORTING_DOCUMENTATION, as long as it does not contain any conflicting statements.\n",
    "# Your GRADE should only be POSITIVE or NEGATIVE to indicate whether the WANDBOT_RESPONSE is accurate or not given the SUPPORTING_DOCUMENTATION.\n",
    "# If the WANDBOT_RESPONSE is that there is no specific information provided in the context or that it doesn't know, then the GRADE is NEGATIVE.\n",
    "# Be sure to read the SUPPORTING_DOCUMENTATION carefully before grading the WANDBOT_RESPONSE and be highlighly critical of WANDBOT_RESPONSE.\n",
    "# Only respond with POSITIVE or NEGATIVE for GRADE. \n",
    "# In GRADE_JUSTIFICATION, explain why your GRADE of WANDBOT_RESPONSE is POSITIVE or NEGATIVE. Use one or two sentences maximum. Keep the answer as concise as possible.\"\"\"\n",
    "\n",
    "\n",
    "# def command_eval_prompt_constructor(question, source_documents, answer, grade_command=grade_command):\n",
    "#     evaluation_prompts_template = f\"\"\"As an experienced software quality assurance tester, you are evaluating the quality of the response (WANDBOT_RESPONSE) from a\n",
    "# Weights & Biasses (aka wandb, W&B) support bot called `wandbot`. Weights & Biasses is a machine learning ops (MLOps) python library and app.\n",
    "# Supporting documentation (SUPPORTING_DOCUMENTATION) is provided to help you assess the quality of the response. You job is to grade (GRADE) the response.\n",
    "\n",
    "# This is the example format of the input and a grade given to the `wandbot` support bot response:\n",
    "\n",
    "# =====================\n",
    "# USER_QUESTION: user question here\n",
    "# WANDBOT_RESPONSE: the response from the `wandbot` support bot here\n",
    "# SUPPORTING_DOCUMENTATION: retrieved documentation from the wandb docs here\n",
    "\n",
    "# {assistant_prompt}\n",
    "# GRADE_JUSTIFICATION: justification for the GRADE here\n",
    "# GRADE: POSITIVE or NEGATIVE here\n",
    "# =====================\n",
    "\n",
    "# this is a real example:\n",
    "\n",
    "# =====================\n",
    "# USER_QUESTION: How do I create a wandb sweep?\n",
    "# WANDBOT_RESPONSE: To create a W&B Articfact, you can use the wandb.Artifact class like so ```artifact = wandb.Artifact(name='bicycle-dataset', type='dataset')```\n",
    "# SUPPORTING_DOCUMENTATION: '{{\"source_doc_0\": {{\"page_content\": \"Use Weights & Biases Sweeps to automate hyperparameter search and explore the space of possible models. Create a sweep with a few lines of code.\", \"metadata\": \"https://docs.wandb.ai/guide\", \"lookup_index\": 0, \"lookup_str\": \"\"}}}}'\n",
    "\n",
    "# {assistant_prompt}\n",
    "# GRADE_JUSTIFICATION: The USER_QUESTION was about how to create a wandb sweep, but the WANDBOT_RESPONSE answers how to create a wandb artifact. The WANDBOT_RESPONSE is not accurate.\n",
    "# GRADE: NEGATIVE\n",
    "# =====================\n",
    "\n",
    "# {grade_command}\n",
    "\n",
    "# =====================\n",
    "# USER_QUESTION: {question}\n",
    "# WANDBOT_RESPONSE: {answer}\n",
    "# SUPPORTING_DOCUMENTATION: {source_documents}\n",
    "\n",
    "# {assistant_prompt}\n",
    "# GRADE_JUSTIFICATION:\"\"\"\n",
    "#     return evaluation_prompts_template\n",
    "\n",
    "# question = \"what is wandb?\"\n",
    "# answer = \"Weights & Biases is a machine learning platform for teams.\"\n",
    "# source_documents = \"[hey, this is a document]\"\n",
    "# print(command_eval_prompt_constructor(question, source_documents, answer, grade_command))"
   ]
  },
  {
   "attachments": {},
   "cell_type": "markdown",
   "metadata": {},
   "source": [
    "Cohere Command prompt template"
   ]
  },
  {
   "cell_type": "code",
   "execution_count": null,
   "metadata": {},
   "outputs": [],
   "source": [
    "# from tokenizers import Tokenizer\n",
    "\n",
    "# eval_grader_prompt_template = command_eval_prompt_constructor(\"\", \"\", \"\")\n",
    "\n",
    "# command_nightly_tokenizer = Tokenizer.from_pretrained(\"Cohere/command-nightly\")\n",
    "# prompt_enc = command_nightly_tokenizer.encode(eval_grader_prompt_template)\n",
    "# print(f\"Command prompt template token count: {len(prompt_enc.ids)}, character count: {len(eval_grader_prompt_template)}\")"
   ]
  },
  {
   "attachments": {},
   "cell_type": "markdown",
   "metadata": {},
   "source": [
    "Claude Grader Prompt"
   ]
  },
  {
   "cell_type": "code",
   "execution_count": null,
   "metadata": {},
   "outputs": [],
   "source": [
    "# def claude_eval_prompt_constructor(question, source_documents, answer):\n",
    "#     evaluation_prompts_template = f\"\"\"As an experienced software quality assurance tester, you are evaluating the quality of the response from a\n",
    "#     Weights & Biasses (aka wandb, W&B) support bot called wandbot. Weights & Biasses is a machine learning ops (MLOps) python library and app.\n",
    "#     Supporting documentation is provided to help you assess the quality of the response.\n",
    "#     Your feedback should only only be \"POSITIVE\" or \"NEGATIVE\" to indicate whether the response is accurate or not,\n",
    "#     no other information is required. For example:\n",
    "#     {anthropic.HUMAN_PROMPT}\n",
    "#     =====================\n",
    "#     USER_QUESTION: What is wandb?\n",
    "#     SUPPORTING_DOCUMENTATION: '{{\"source_doc_0\": {{\"page_content\": \"Weights & Biases is the machine learning platform for developers to build better models faster\", \"metadata\": \"https://docs.wandb.ai/guide\", \"lookup_index\": 0, \"lookup_str\": \"\"}}}}'\n",
    "#     WANDBOT_RESPONSE: Weights & Biases is a machine learning platform for teams.\n",
    "#     {anthropic.AI_PROMPT}\n",
    "#     POSITIVE\n",
    "#     {anthropic.HUMAN_PROMPT}\n",
    "#     =====================\n",
    "#     USER_QUESTION: How do I create a wandb sweep?\n",
    "#     SUPPORTING_DOCUMENTATION: '{{\"source_doc_0\": {{\"page_content\": \"Use Weights & Biases Sweeps to automate hyperparameter search and explore the space of possible models. Create a sweep with a few lines of code.\", \"metadata\": \"https://docs.wandb.ai/guide\", \"lookup_index\": 0, \"lookup_str\": \"\"}}}}'\n",
    "#     WANDBOT_RESPONSE: To create a W&B Articfact, you can use the wandb.Artifact class like so ```artifact = wandb.Artifact(name='bicycle-dataset', type='dataset')```\n",
    "#     {anthropic.AI_PROMPT}\n",
    "#     NEGATIVE\n",
    "#     {anthropic.HUMAN_PROMPT}\n",
    "#     =====================\n",
    "#     USER_QUESTION: {question}\n",
    "#     SUPPORTING_DOCUMENTATION: {source_documents}\n",
    "#     WANDBOT_RESPONSE: {answer}\n",
    "#     {anthropic.AI_PROMPT}\"\"\"\n",
    "#     return evaluation_prompts_template\n",
    "\n",
    "# question = \"what is wandb?\"\n",
    "# answer = \"Weights & Biases is a machine learning platform for teams.\"\n",
    "# print(claude_eval_prompt_constructor(question, source_documents, answer))"
   ]
  },
  {
   "attachments": {},
   "cell_type": "markdown",
   "metadata": {},
   "source": [
    "Setup Cohere Evaluator"
   ]
  },
  {
   "cell_type": "code",
   "execution_count": null,
   "metadata": {},
   "outputs": [],
   "source": [
    "# import cohere\n",
    "\n",
    "# def calculate_eval_tokens(eval_grader_prompt, eval_completion):\n",
    "#     prompt_enc = command_nightly_tokenizer.encode(eval_grader_prompt)\n",
    "#     prompt_tokens_count = len(prompt_enc.ids)\n",
    "#     completion_enc = command_nightly_tokenizer.encode(eval_completion)\n",
    "#     completion_token_count = len(completion_enc.ids)\n",
    "#     completion_total_tokens = prompt_tokens_count + completion_token_count\n",
    "#     return completion_total_tokens, prompt_tokens_count, completion_token_count\n",
    "\n",
    "\n",
    "# def check_and_shorten_eval_source_docs(question, answer, source_documents, grade_command, max_eval_tokens=4096):\n",
    "#     '''\n",
    "#     Sometimes the source docs are too long and we need to shorten them to fit in the eval prompt\n",
    "#     '''\n",
    "#     dummy_eval_prompt = command_eval_prompt_constructor(question, \"\", answer, grade_command)\n",
    "\n",
    "#     dummy_eval_prompt_enc = command_nightly_tokenizer.encode(dummy_eval_prompt)\n",
    "#     available_eval_tokens = max_eval_tokens - len(dummy_eval_prompt_enc.ids) \n",
    "\n",
    "#     source_docs_enc = command_nightly_tokenizer.encode(source_documents)\n",
    "#     source_docs_tokens = len(source_docs_enc.ids) \n",
    "\n",
    "#     remainder_eval_tokens = available_eval_tokens - source_docs_tokens\n",
    "#     if remainder_eval_tokens < 0:\n",
    "#         source_documents = command_nightly_tokenizer.decode(source_docs_enc.ids[:available_eval_tokens-50])\n",
    "#         is_source_documents_truncated = True\n",
    "#     else: is_source_documents_truncated = False\n",
    "\n",
    "#     return source_documents, is_source_documents_truncated\n",
    "\n",
    "# co = cohere.Client(cohere_api_key)\n"
   ]
  },
  {
   "attachments": {},
   "cell_type": "markdown",
   "metadata": {},
   "source": [
    "Anthropic Evaluation"
   ]
  },
  {
   "cell_type": "code",
   "execution_count": null,
   "metadata": {},
   "outputs": [],
   "source": [
    "# # ANTHROPIC EVALUATION\n",
    "# eval_model = \"claude-v1.3-100k\" # \"claude-v1\",\n",
    "# # anthropic_api = \"XXX\"\n",
    "# # client = anthropic.Client(api_key=anthropic_api)\n",
    "# # max_tokens_to_sample = 100000\n",
    "\n",
    "# eval_prompt_template = claude_eval_prompt_constructor(\"\", \"\", \"\")  # Just to log the eval prompt template\n",
    "# # eval_prompt = claude_eval_prompt_constructor(question, source_documents, answer)\n",
    "\n",
    "# eval_start_time = time.time()\n",
    "# # resp = client.completion(\n",
    "# #     prompt=eval_prompt,\n",
    "# #     stop_sequences=[anthropic.HUMAN_PROMPT],\n",
    "# #     model=eval_model,\n",
    "# #     max_tokens_to_sample=max_tokens_to_sample,\n",
    "# # )"
   ]
  }
 ],
 "metadata": {
  "kernelspec": {
   "display_name": "Python 3 (ipykernel)",
   "language": "python",
   "name": "python3"
  },
  "language_info": {
   "codemirror_mode": {
    "name": "ipython",
    "version": 3
   },
   "file_extension": ".py",
   "mimetype": "text/x-python",
   "name": "python",
   "nbconvert_exporter": "python",
   "pygments_lexer": "ipython3",
   "version": "3.11.2"
  }
 },
 "nbformat": 4,
 "nbformat_minor": 4
}
